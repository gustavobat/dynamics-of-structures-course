{
 "cells": [
  {
   "cell_type": "code",
   "execution_count": 90,
   "outputs": [
    {
     "name": "stdout",
     "output_type": "stream",
     "text": [
      "EigenValues =\n",
      " [[0.02603406]\n",
      " [0.25908459]\n",
      " [0.85492442]\n",
      " [1.78779197]]\n",
      "EigenVectors =\n",
      " [[ 0.11190068 -0.29926248  0.36323512  0.18444881]\n",
      " [ 0.20676282 -0.22904542 -0.27800812 -0.34082199]\n",
      " [ 0.27015215  0.12395839 -0.15045691  0.44529947]\n",
      " [ 0.29240679  0.32391947  0.39316286 -0.48199457]]\n"
     ]
    }
   ],
   "source": [
    "from generalized_jacobi_eigenpairs import *\n",
    "\n",
    "M = [[4, 1, 0, 0],\n",
    "     [1, 4, 1, 0],\n",
    "     [0, 1, 4, 1],\n",
    "     [0, 0, 1, 2]]\n",
    "\n",
    "K = [[ 2, -1,  0,  0],\n",
    "     [-1,  2, -1,  0],\n",
    "     [ 0, -1,  2, -1],\n",
    "     [ 0,  0, -1,  1]]\n",
    "\n",
    "tol = 1e-6\n",
    "vals,vecs = calculate_eigenpairs(M, K, tol)\n",
    "print(\"EigenValues =\\n\", vals)\n",
    "print(\"EigenVectors =\\n\", vecs)\n"
   ],
   "metadata": {
    "collapsed": false,
    "pycharm": {
     "name": "#%%\n"
    }
   }
  }
 ],
 "metadata": {
  "kernelspec": {
   "name": "pycharm-d04ddfcf",
   "language": "python",
   "display_name": "PyCharm (dynamics-of-structures-course)"
  },
  "language_info": {
   "codemirror_mode": {
    "name": "ipython",
    "version": 2
   },
   "file_extension": ".py",
   "mimetype": "text/x-python",
   "name": "python",
   "nbconvert_exporter": "python",
   "pygments_lexer": "ipython2",
   "version": "2.7.6"
  }
 },
 "nbformat": 4,
 "nbformat_minor": 0
}