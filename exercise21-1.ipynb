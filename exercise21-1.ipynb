{
 "cells": [
  {
   "cell_type": "code",
   "execution_count": 1,
   "outputs": [
    {
     "name": "stdout",
     "output_type": "stream",
     "text": [
      "[[  33.19123846]\n",
      " [ 342.0561445 ]\n",
      " [1126.99582269]\n",
      " [2277.32429435]]\n",
      "[[ 0.00115602 -0.00333863 -0.00475032  0.00386673]\n",
      " [ 0.00279574 -0.00460676  0.00019468 -0.00457425]\n",
      " [ 0.00411884 -0.00082176  0.00445711  0.00353469]\n",
      " [ 0.00488699  0.00411777 -0.00274421 -0.00127695]]\n",
      "[[342.0561445]]\n",
      "[[-0.00333863]\n",
      " [-0.00460676]\n",
      " [-0.00082176]\n",
      " [ 0.00411777]]\n"
     ]
    }
   ],
   "source": [
    "from generalized_jacobi_eigenpairs import *\n",
    "from inverse_iteration_eigenpair import *\n",
    "\n",
    "M = [[4, 1, 0, 0],\n",
    "     [1, 4, 1, 0],\n",
    "     [0, 1, 4, 1],\n",
    "     [0, 0, 1, 2]]\n",
    "\n",
    "K = [[ 2, -1,  0,  0],\n",
    "     [-1,  2, -1,  0],\n",
    "     [ 0, -1,  2, -1],\n",
    "     [ 0,  0, -1,  1]]\n",
    "\n",
    "m = [[20000, 0, 0, 0],\n",
    "     [0, 20000, 0, 0],\n",
    "     [0, 0, 20000, 0],\n",
    "     [0, 0, 0, 20000]]\n",
    "\n",
    "k = [[2.53352e7, -1.43816e7, 3.34428e6, -4.27270e5],\n",
    "     [-1.43816e7, 2.20846e7, -1.36664e7, 2.66592e6],\n",
    "     [3.34428e6, -1.36664e7, 2.06543e7, -9.82118e6],\n",
    "     [-4.27270e5, 2.66592e6, -9.82118e6, 7.51725e6]]\n",
    "\n",
    "tol = 1e-6\n",
    "vals,vecs = calculate_eigenpairs(m, k, tol*tol)\n",
    "print(vals)\n",
    "print(vecs)\n",
    "val,vec = calculate_eigenpair(m, k, tol*tol, 350.)\n",
    "print(val)\n",
    "print(vec)"
   ],
   "metadata": {
    "collapsed": false,
    "pycharm": {
     "name": "#%%\n"
    }
   }
  },
  {
   "cell_type": "code",
   "execution_count": 1,
   "outputs": [],
   "source": [],
   "metadata": {
    "collapsed": false,
    "pycharm": {
     "name": "#%%\n"
    }
   }
  }
 ],
 "metadata": {
  "kernelspec": {
   "name": "pycharm-d04ddfcf",
   "language": "python",
   "display_name": "PyCharm (dynamics-of-structures-course)"
  },
  "language_info": {
   "codemirror_mode": {
    "name": "ipython",
    "version": 2
   },
   "file_extension": ".py",
   "mimetype": "text/x-python",
   "name": "python",
   "nbconvert_exporter": "python",
   "pygments_lexer": "ipython2",
   "version": "2.7.6"
  }
 },
 "nbformat": 4,
 "nbformat_minor": 0
}