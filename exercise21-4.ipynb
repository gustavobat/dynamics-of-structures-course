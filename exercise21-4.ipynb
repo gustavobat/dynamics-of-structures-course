{
 "cells": [
  {
   "cell_type": "code",
   "execution_count": 29,
   "metadata": {
    "collapsed": true
   },
   "outputs": [
    {
     "name": "stdout",
     "output_type": "stream",
     "text": [
      "EigenVal =\n",
      " [[342.0561445]]\n",
      "EigenVector =\n",
      " [[-0.00333863]\n",
      " [-0.00460676]\n",
      " [-0.00082176]\n",
      " [ 0.00411777]]\n"
     ]
    }
   ],
   "source": [
    "from inverse_iteration_eigenpair import *\n",
    "\n",
    "M = [[20000, 0, 0, 0],\n",
    "     [0, 20000, 0, 0],\n",
    "     [0, 0, 20000, 0],\n",
    "     [0, 0, 0, 20000]]\n",
    "\n",
    "K = [[2.53352e7, -1.43816e7, 3.34428e6, -4.27270e5],\n",
    "     [-1.43816e7, 2.20846e7, -1.36664e7, 2.66592e6],\n",
    "     [3.34428e6, -1.36664e7, 2.06543e7, -9.82118e6],\n",
    "     [-4.27270e5, 2.66592e6, -9.82118e6, 7.51725e6]]\n",
    "\n",
    "tol = 1e-6\n",
    "val,vec = calculate_eigenpair(M, K, tol, 350.)\n",
    "print(\"EigenVal =\\n\", val)\n",
    "print(\"EigenVector =\\n\", vec)\n",
    "\n"
   ]
  }
 ],
 "metadata": {
  "kernelspec": {
   "name": "pycharm-d04ddfcf",
   "language": "python",
   "display_name": "PyCharm (dynamics-of-structures-course)"
  },
  "language_info": {
   "codemirror_mode": {
    "name": "ipython",
    "version": 2
   },
   "file_extension": ".py",
   "mimetype": "text/x-python",
   "name": "python",
   "nbconvert_exporter": "python",
   "pygments_lexer": "ipython2",
   "version": "2.7.6"
  }
 },
 "nbformat": 4,
 "nbformat_minor": 0
}